{
 "metadata": {
  "name": "khan_segmentation"
 },
 "nbformat": 3,
 "nbformat_minor": 0,
 "worksheets": [
  {
   "cells": [
    {
     "cell_type": "code",
     "collapsed": false,
     "input": [
      "%pylab inline\n",
      "import os\n",
      "import csv\n",
      "import segeval as se\n",
      "import numpy as np\n",
      "import matplotlib.pyplot as plt\n",
      "import itertools as it\n",
      "from collections import defaultdict\n",
      "from decimal import Decimal\n",
      "from hcluster import linkage, dendrogram, fcluster"
     ],
     "language": "python",
     "metadata": {},
     "outputs": [
      {
       "output_type": "stream",
       "stream": "stdout",
       "text": [
        "\n",
        "Welcome to pylab, a matplotlib-based Python environment [backend: module://IPython.zmq.pylab.backend_inline].\n",
        "For more information, type 'help(pylab)'.\n"
       ]
      }
     ],
     "prompt_number": 1
    },
    {
     "cell_type": "markdown",
     "metadata": {},
     "source": [
      "An initial study of topical poetry segmentation\n",
      "======\n",
      "```Chris Fournier. 2013. An initial study of topical poetry segmentation. Proceedings of the Second Workshop on Computational Linguistics for Literature, pp. 47-51. Association for Computational Linguistics, Stroudsburg, PA, USA.```"
     ]
    },
    {
     "cell_type": "markdown",
     "metadata": {},
     "source": [
      "Load and define data\n",
      "--------------------"
     ]
    },
    {
     "cell_type": "code",
     "collapsed": false,
     "input": [
      "# Document to analyse\n",
      "item_name = u'kublakhan'\n",
      "\n",
      "# Ordered list of coders (and numeric list of coders) used to relate\n",
      "# numbered cluster coders to other graphs\n",
      "coders = ['AWRAXV1RIYR0M', 'A23S6QOSZH9TMT', 'A21IFZJ0EDKM4E', 'AO3XB5I5QNNUI', 'A3RLCGRXA34GC0', 'A21SF3IKIZB0VN', 'APXNY64HXO08K', 'AM155T4U3RE1A', 'A2YBGZ2H2KSO5T']\n",
      "labels = ['%i' % i for i in range(0, len(coders))]\n",
      "\n",
      "# Load segmentation dataset\n",
      "filepath = os.path.join('data', 'kubla_khan_fournier_2013.json')\n",
      "dataset = se.input_linear_mass_json(filepath)\n",
      "\n",
      "# Load labels\n",
      "segment_labels = dict()\n",
      "filepath = os.path.join('data', 'kubla_khan_fournier_2013', 'labels.csv')\n",
      "with open(filepath) as csv_file:\n",
      "    reader = csv.reader(csv_file, delimiter=',')\n",
      "    for row in reader:\n",
      "        segment_labels[row[0]] = [item.strip() for item in row[1:]]"
     ],
     "language": "python",
     "metadata": {},
     "outputs": [],
     "prompt_number": 2
    },
    {
     "cell_type": "markdown",
     "metadata": {},
     "source": [
      "Compute descriptive statistics\n",
      "------------------------------"
     ]
    },
    {
     "cell_type": "code",
     "collapsed": false,
     "input": [
      "# Compute boundaries\n",
      "boundaries = dict([(key, len(mass) - 1) for key, mass in dataset[item_name].items()])\n",
      "coder_boundaries = [boundaries[ coder] for coder in coders]\n",
      "\n",
      "# Compute similarities (1-B)\n",
      "similarities = se.boundary_similarity(dataset, one_minus=True)"
     ],
     "language": "python",
     "metadata": {},
     "outputs": [],
     "prompt_number": 3
    },
    {
     "cell_type": "code",
     "collapsed": false,
     "input": [
      "# Order distances for clustering\n",
      "coder_combinations = [list(a) for a in it.combinations(coders, 2)]\n",
      "for coder_combination in coder_combinations:\n",
      "    coder_combinations.reverse()\n",
      "keys = list()\n",
      "for a in coder_combinations:\n",
      "    a = list(a)\n",
      "    key = ','.join([item_name] + a)\n",
      "    if key not in similarities:\n",
      "        a.reverse()\n",
      "    key = ','.join([item_name] + a)\n",
      "    keys.append(key)\n",
      "distances = [similarities[key] for key in keys]"
     ],
     "language": "python",
     "metadata": {},
     "outputs": [],
     "prompt_number": 4
    },
    {
     "cell_type": "code",
     "collapsed": false,
     "input": [
      "# Expand segment labels using the mass of each segment to create\n",
      "# a one to one mapping between line and segment label\n",
      "expanded_segment_labels = defaultdict(list)\n",
      "for coder in coders:\n",
      "    masses = dataset[item_name][coder]\n",
      "    coder_segment_labels = segment_labels[coder]\n",
      "    expanded_segment = list()\n",
      "    for mass, coder_segment_label in zip(masses, coder_segment_labels):\n",
      "        expanded_segment.extend(list([coder_segment_label]) * mass)\n",
      "    expanded_segment_labels[coder] = expanded_segment\n",
      "\n",
      "# Define label similarity function\n",
      "def jaccard(a, b):\n",
      "    return float(len(a & b)) / float(len(a | b))\n",
      "\n",
      "# Compute overall label similarities per position\n",
      "total_similarities = list()\n",
      "row_similarities = list()\n",
      "for i in xrange(0, 54):\n",
      "    parts = list()\n",
      "    for coder in coders:\n",
      "        parts.append(set(expanded_segment_labels[coder][i].split('/')))\n",
      "    part_combinations = it.combinations(parts, 2)\n",
      "    similarities = [jaccard(a, b) for a, b in part_combinations]\n",
      "    total_similarities.extend(similarities)\n",
      "    row_similarities.append(similarities)"
     ],
     "language": "python",
     "metadata": {},
     "outputs": [],
     "prompt_number": 5
    },
    {
     "cell_type": "markdown",
     "metadata": {},
     "source": [
      "Define helper functions\n",
      "-----------------------"
     ]
    },
    {
     "cell_type": "code",
     "collapsed": false,
     "input": [
      "def autolabel(rects):\n",
      "    # attach some text labels\n",
      "    for rect in rects:\n",
      "        height = rect.get_height()\n",
      "        ax.text(rect.get_x()+rect.get_width()/2., 1.05*height, '%.2f'%float(height),\n",
      "                ha='center', va='bottom')"
     ],
     "language": "python",
     "metadata": {},
     "outputs": [],
     "prompt_number": 6
    },
    {
     "cell_type": "markdown",
     "metadata": {},
     "source": [
      "Plot data to aid analysis\n",
      "-------------------------"
     ]
    },
    {
     "cell_type": "markdown",
     "metadata": {},
     "source": [
      "**Cluster segmentations by boundary similarity**"
     ]
    },
    {
     "cell_type": "code",
     "collapsed": false,
     "input": [
      "# Cluster\n",
      "aglomerative_clusters = linkage(distances, method='complete')\n",
      "dendro = dendrogram(aglomerative_clusters, labels=labels)\n",
      "plt.ylabel('Mean Distance (1-B)')\n",
      "plt.xlabel('Coder')\n",
      "plt.show(dendro)"
     ],
     "language": "python",
     "metadata": {},
     "outputs": [
      {
       "output_type": "display_data",
       "png": "[encoded data removed]"
      }
     ],
     "prompt_number": 7
    },
    {
     "cell_type": "markdown",
     "metadata": {},
     "source": [
      "**Compute statistics for each cluster**"
     ]
    },
    {
     "cell_type": "code",
     "collapsed": false,
     "input": [
      "cluster_members = {\n",
      "    '0,2' : [coders[0], coders[2]],\n",
      "    '1,0,2' : [coders[1], coders[0], coders[2]],\n",
      "    '4,7' : [coders[4], coders[7]],\n",
      "    '1,0,2,4,7' : [coders[1], coders[0], coders[2], coders[4], coders[7]],\n",
      "    '6,8' : [coders[6], coders[8]],\n",
      "    '5,6,8' : [coders[5], coders[6], coders[8]],\n",
      "    '3,5,6,8' : [coders[3], coders[5], coders[6], coders[8]]\n",
      "}\n",
      "\n",
      "cluster_similarities = dict()\n",
      "cluster_pi = dict()\n",
      "for cluster, members in cluster_members.items():\n",
      "    data = {coder : dataset[item_name][coder] for coder in members}\n",
      "    dataset_subset = se.Dataset({item_name : data})\n",
      "    cluster_similarities[cluster] = [float(value) for value in se.boundary_similarity(dataset_subset, n_t=2).values()]\n",
      "    cluster_pi[cluster] = se.fleiss_pi_linear(dataset_subset, n_t=2)"
     ],
     "language": "python",
     "metadata": {},
     "outputs": [],
     "prompt_number": 8
    },
    {
     "cell_type": "markdown",
     "metadata": {},
     "source": [
      "**Plot boundary placement frequency**\n",
      "\n",
      "To visualize coder behaviour, this plot indicates the frequency at which various coders placed boundaries in this document."
     ]
    },
    {
     "cell_type": "code",
     "collapsed": false,
     "input": [
      "# Plot boundaries per coder\n",
      "y = coder_boundaries\n",
      "x = np.arange(len(y))\n",
      "\n",
      "# Set up\n",
      "width = 0.75\n",
      "fig = plt.figure()\n",
      "ax = fig.add_subplot(1,1,1)\n",
      "\n",
      "# Plot\n",
      "rects = ax.bar(x, y, width, color='0.75')\n",
      "\n",
      "# Add xticks\n",
      "ax.set_xticks(x + (width / 2))\n",
      "ax.set_xticklabels([str(val) for val in labels])\n",
      "\n",
      "# Draw mean lines\n",
      "xmin, xmax, ymean, ystd = -0.25, len(labels), np.mean(y), np.std(y)\n",
      "ax.plot([xmin, xmax], [ymean] * 2, color='k') # Draw mean\n",
      "ax.plot([xmin, xmax], [ymean + ystd] * 2, color='0.5') # Draw +std\n",
      "ax.plot([xmin, xmax], [ymean - ystd] * 2, color='0.5') # Draw -std\n",
      "\n",
      "# Add numbers to bars\n",
      "format_str='%d'\n",
      "fnc_value=int\n",
      "for rect in rects:\n",
      "    height = rect.get_height()\n",
      "    ax.text(rect.get_x() + rect.get_width() / 2., 1.05 * height, format_str%fnc_value(height), ha='center', va='bottom')\n",
      "\n",
      "# Format\n",
      "ax.set_xlim([-0.25, 9])\n",
      "ax.set_ylim([0, 30])\n",
      "ax.set_xlabel('Coder')\n",
      "ax.set_ylabel('Boundaries placed (quantity)')\n",
      "plt.show()"
     ],
     "language": "python",
     "metadata": {},
     "outputs": [
      {
       "output_type": "display_data",
       "png": "[encoded data removed]"
      }
     ],
     "prompt_number": 9
    },
    {
     "cell_type": "markdown",
     "metadata": {},
     "source": [
      "**Plot coder label similarity per line**"
     ]
    },
    {
     "cell_type": "code",
     "collapsed": false,
     "input": [
      "# Create heat map\n",
      "y_sim = list()\n",
      "y_sim_err = list()\n",
      "for row_similarity in row_similarities:\n",
      "    y_sim.append(np.mean(row_similarity))\n",
      "    y_sim_err.append(np.std(row_similarity))\n",
      "\n",
      "# Plot mean label similarity\n",
      "labels = ['$%i$' % i for i in range(0, 54)]\n",
      "\n",
      "y = list(y_sim)\n",
      "x = range(0, 54)\n",
      "plt.errorbar(x, y, color='k', )\n",
      "\n",
      "xlim([0, 53.0])\n",
      "ylim([0, 1.05])\n",
      "\n",
      "plt.ylabel('Mean Label Jaccard Similarity')\n",
      "plt.xlabel('Line')\n",
      "\n",
      "plt.show()"
     ],
     "language": "python",
     "metadata": {},
     "outputs": [
      {
       "output_type": "display_data",
       "png": "[encoded data removed]"
      }
     ],
     "prompt_number": 10
    },
    {
     "cell_type": "markdown",
     "metadata": {},
     "source": [
      "**Plot mean similarities per cluster**"
     ]
    },
    {
     "cell_type": "code",
     "collapsed": false,
     "input": [
      "y = list()\n",
      "y2 = list()\n",
      "y2err = list()\n",
      "\n",
      "for cluster in cluster_members.keys():\n",
      "    y.append(float(cluster_pi[cluster]))\n",
      "    similarities = cluster_similarities[cluster]\n",
      "    y2.append(np.mean(similarities))\n",
      "    y2err.append(np.std(similarities))\n",
      "\n",
      "ind = np.arange(len(cluster_members))  # the x locations for the groups\n",
      "width = 0.35       # the width of the bars\n",
      "\n",
      "fig = plt.figure()\n",
      "ax = fig.add_subplot(111)\n",
      "rects1 = ax.bar(ind, y, width, color='0.75')\n",
      "rects2 = ax.bar(ind+width, y2, width, yerr=y2err, color='0.5', ecolor='k')\n",
      "\n",
      "# add some\n",
      "ax.set_ylabel('Cluster similarity')\n",
      "ax.set_xticks(ind + width)\n",
      "ax.set_xticklabels(labels)\n",
      "ax.set_xlim([-0.25,6.95])\n",
      "ax.set_ylim([0,1])\n",
      "\n",
      "ax.legend( (rects1[0], rects2[0]), ('E(B)', 'E(J)') )\n",
      "\n",
      "autolabel(rects1)\n",
      "autolabel(rects2)"
     ],
     "language": "python",
     "metadata": {},
     "outputs": [
      {
       "output_type": "display_data",
       "png": "[encoded data removed]"
      }
     ],
     "prompt_number": 11
    }
   ],
   "metadata": {}
  }
 ]
}